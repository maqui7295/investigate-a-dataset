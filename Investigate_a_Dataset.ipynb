{
 "cells": [
  {
   "cell_type": "markdown",
   "metadata": {},
   "source": [
    "# Project: Investigate a Dataset - No-shows appointment\n",
    "\n",
    "## Table of Contents\n",
    "<ul>\n",
    "<li><a href=\"#intro\">Introduction</a></li>\n",
    "<li><a href=\"#wrangling\">Data Wrangling</a></li>\n",
    "<li><a href=\"#eda\">Exploratory Data Analysis</a></li>\n",
    "<li><a href=\"#conclusions\">Conclusions</a></li>\n",
    "</ul>"
   ]
  },
  {
   "cell_type": "markdown",
   "metadata": {},
   "source": [
    "<a id='intro'></a>\n",
    "## Introduction\n",
    "\n",
    "### Dataset Description \n",
    "\n",
    "The dataset, a record of about 110,00 medical appointments in brazil focuses on whether a patient showed up for a scheduled appointment. The dataset contains 14 variables (columns) which are:\n",
    "\n",
    "- PatientId - Identification of the patient\n",
    "- AppointmentID - Identification of the appointment\n",
    "- Gender - (M)ale or (F)emale\n",
    "- ScheduledDay - The day the patient set up the appointment\n",
    "- AppointmentDay - The  day of the appointment\n",
    "- Age - Age of the patient\n",
    "- Neighbourhood - The location of the hospital.\n",
    "- Scholarship - Whether or not the patient was enrolled in the Brazilian welfare program (0 = False, 1 = True)\n",
    "- Hipertension - Whether or not the patient had Hypertension (0 = False, 1 = True)\n",
    "- Diabetes - Was the patient diabetic? (0 = False, 1 = True)\n",
    "- Alcoholism - Was the patient an alcoholic? (0 = False, 1 = True)\n",
    "- Handcap - Was the patient handicapped? (0 = False, 1 = True)\n",
    "- SMS_received - One (1) or more messages sent to the patient\n",
    "- No-show - Did the patient not show up for the appointment? (No = Patient showed up, Yes = Patient did **not**)\n",
    "\n",
    "More information about the dataset can be found [here](https://www.kaggle.com/datasets/joniarroba/noshowappointments)\n",
    "\n",
    "\n",
    "### Question(s) for Analysis\n",
    "\n",
    "What factors are important for us to know in order to predict if a patient will show up for their scheduled appointment? Specifically:\n",
    "\n",
    "1. Which gender is more likely to miss an appointment?\n",
    "2. Does the length of days between the schedule date and appointment date affect No-show?\n",
    "3. Does sending SMS reduce the number of No-shows?\n",
    "4. Are those in the Brazilian welfare program more likely to keep an appointment?\n",
    "5. Does the presence of any of the conditions (Hypertension, Diabetes, Alcoholism and Handicap) influence Noshow?"
   ]
  },
  {
   "cell_type": "code",
   "execution_count": 1,
   "metadata": {},
   "outputs": [],
   "source": [
    "import pandas as pd\n",
    "import numpy as np\n",
    "import matplotlib.pyplot as plt\n",
    "import seaborn as sns\n",
    "\n",
    "%matplotlib inline"
   ]
  },
  {
   "cell_type": "code",
   "execution_count": 2,
   "metadata": {},
   "outputs": [],
   "source": [
    "# Upgrade pandas to use dataframe.explode() function. \n",
    "# !pip install --upgrade pandas==0.25.0"
   ]
  },
  {
   "cell_type": "markdown",
   "metadata": {},
   "source": [
    "<a id='wrangling'></a>\n",
    "## Data Wrangling\n",
    "\n",
    "\n",
    "### General Properties"
   ]
  },
  {
   "cell_type": "code",
   "execution_count": 3,
   "metadata": {},
   "outputs": [],
   "source": [
    "# load the data\n",
    "df = pd.read_csv('Database_No_show_appointments/noshowappointments-kagglev2-may-2016.csv')"
   ]
  },
  {
   "cell_type": "code",
   "execution_count": 4,
   "metadata": {},
   "outputs": [
    {
     "data": {
      "text/html": [
       "<div>\n",
       "<style scoped>\n",
       "    .dataframe tbody tr th:only-of-type {\n",
       "        vertical-align: middle;\n",
       "    }\n",
       "\n",
       "    .dataframe tbody tr th {\n",
       "        vertical-align: top;\n",
       "    }\n",
       "\n",
       "    .dataframe thead th {\n",
       "        text-align: right;\n",
       "    }\n",
       "</style>\n",
       "<table border=\"1\" class=\"dataframe\">\n",
       "  <thead>\n",
       "    <tr style=\"text-align: right;\">\n",
       "      <th></th>\n",
       "      <th>PatientId</th>\n",
       "      <th>AppointmentID</th>\n",
       "      <th>Gender</th>\n",
       "      <th>ScheduledDay</th>\n",
       "      <th>AppointmentDay</th>\n",
       "      <th>Age</th>\n",
       "      <th>Neighbourhood</th>\n",
       "      <th>Scholarship</th>\n",
       "      <th>Hipertension</th>\n",
       "      <th>Diabetes</th>\n",
       "      <th>Alcoholism</th>\n",
       "      <th>Handcap</th>\n",
       "      <th>SMS_received</th>\n",
       "      <th>No-show</th>\n",
       "    </tr>\n",
       "  </thead>\n",
       "  <tbody>\n",
       "    <tr>\n",
       "      <th>0</th>\n",
       "      <td>2.987250e+13</td>\n",
       "      <td>5642903</td>\n",
       "      <td>F</td>\n",
       "      <td>2016-04-29T18:38:08Z</td>\n",
       "      <td>2016-04-29T00:00:00Z</td>\n",
       "      <td>62</td>\n",
       "      <td>JARDIM DA PENHA</td>\n",
       "      <td>0</td>\n",
       "      <td>1</td>\n",
       "      <td>0</td>\n",
       "      <td>0</td>\n",
       "      <td>0</td>\n",
       "      <td>0</td>\n",
       "      <td>No</td>\n",
       "    </tr>\n",
       "    <tr>\n",
       "      <th>1</th>\n",
       "      <td>5.589978e+14</td>\n",
       "      <td>5642503</td>\n",
       "      <td>M</td>\n",
       "      <td>2016-04-29T16:08:27Z</td>\n",
       "      <td>2016-04-29T00:00:00Z</td>\n",
       "      <td>56</td>\n",
       "      <td>JARDIM DA PENHA</td>\n",
       "      <td>0</td>\n",
       "      <td>0</td>\n",
       "      <td>0</td>\n",
       "      <td>0</td>\n",
       "      <td>0</td>\n",
       "      <td>0</td>\n",
       "      <td>No</td>\n",
       "    </tr>\n",
       "    <tr>\n",
       "      <th>2</th>\n",
       "      <td>4.262962e+12</td>\n",
       "      <td>5642549</td>\n",
       "      <td>F</td>\n",
       "      <td>2016-04-29T16:19:04Z</td>\n",
       "      <td>2016-04-29T00:00:00Z</td>\n",
       "      <td>62</td>\n",
       "      <td>MATA DA PRAIA</td>\n",
       "      <td>0</td>\n",
       "      <td>0</td>\n",
       "      <td>0</td>\n",
       "      <td>0</td>\n",
       "      <td>0</td>\n",
       "      <td>0</td>\n",
       "      <td>No</td>\n",
       "    </tr>\n",
       "    <tr>\n",
       "      <th>3</th>\n",
       "      <td>8.679512e+11</td>\n",
       "      <td>5642828</td>\n",
       "      <td>F</td>\n",
       "      <td>2016-04-29T17:29:31Z</td>\n",
       "      <td>2016-04-29T00:00:00Z</td>\n",
       "      <td>8</td>\n",
       "      <td>PONTAL DE CAMBURI</td>\n",
       "      <td>0</td>\n",
       "      <td>0</td>\n",
       "      <td>0</td>\n",
       "      <td>0</td>\n",
       "      <td>0</td>\n",
       "      <td>0</td>\n",
       "      <td>No</td>\n",
       "    </tr>\n",
       "    <tr>\n",
       "      <th>4</th>\n",
       "      <td>8.841186e+12</td>\n",
       "      <td>5642494</td>\n",
       "      <td>F</td>\n",
       "      <td>2016-04-29T16:07:23Z</td>\n",
       "      <td>2016-04-29T00:00:00Z</td>\n",
       "      <td>56</td>\n",
       "      <td>JARDIM DA PENHA</td>\n",
       "      <td>0</td>\n",
       "      <td>1</td>\n",
       "      <td>1</td>\n",
       "      <td>0</td>\n",
       "      <td>0</td>\n",
       "      <td>0</td>\n",
       "      <td>No</td>\n",
       "    </tr>\n",
       "  </tbody>\n",
       "</table>\n",
       "</div>"
      ],
      "text/plain": [
       "      PatientId  AppointmentID Gender          ScheduledDay  \\\n",
       "0  2.987250e+13        5642903      F  2016-04-29T18:38:08Z   \n",
       "1  5.589978e+14        5642503      M  2016-04-29T16:08:27Z   \n",
       "2  4.262962e+12        5642549      F  2016-04-29T16:19:04Z   \n",
       "3  8.679512e+11        5642828      F  2016-04-29T17:29:31Z   \n",
       "4  8.841186e+12        5642494      F  2016-04-29T16:07:23Z   \n",
       "\n",
       "         AppointmentDay  Age      Neighbourhood  Scholarship  Hipertension  \\\n",
       "0  2016-04-29T00:00:00Z   62    JARDIM DA PENHA            0             1   \n",
       "1  2016-04-29T00:00:00Z   56    JARDIM DA PENHA            0             0   \n",
       "2  2016-04-29T00:00:00Z   62      MATA DA PRAIA            0             0   \n",
       "3  2016-04-29T00:00:00Z    8  PONTAL DE CAMBURI            0             0   \n",
       "4  2016-04-29T00:00:00Z   56    JARDIM DA PENHA            0             1   \n",
       "\n",
       "   Diabetes  Alcoholism  Handcap  SMS_received No-show  \n",
       "0         0           0        0             0      No  \n",
       "1         0           0        0             0      No  \n",
       "2         0           0        0             0      No  \n",
       "3         0           0        0             0      No  \n",
       "4         1           0        0             0      No  "
      ]
     },
     "execution_count": 4,
     "metadata": {},
     "output_type": "execute_result"
    }
   ],
   "source": [
    "# let's see the first five rows\n",
    "df.head()"
   ]
  },
  {
   "cell_type": "code",
   "execution_count": 5,
   "metadata": {},
   "outputs": [
    {
     "data": {
      "text/plain": [
       "(110527, 14)"
      ]
     },
     "execution_count": 5,
     "metadata": {},
     "output_type": "execute_result"
    }
   ],
   "source": [
    "# How many rows and columns does the data have?\n",
    "df.shape"
   ]
  },
  {
   "cell_type": "code",
   "execution_count": 6,
   "metadata": {},
   "outputs": [
    {
     "name": "stdout",
     "output_type": "stream",
     "text": [
      "<class 'pandas.core.frame.DataFrame'>\n",
      "RangeIndex: 110527 entries, 0 to 110526\n",
      "Data columns (total 14 columns):\n",
      "PatientId         110527 non-null float64\n",
      "AppointmentID     110527 non-null int64\n",
      "Gender            110527 non-null object\n",
      "ScheduledDay      110527 non-null object\n",
      "AppointmentDay    110527 non-null object\n",
      "Age               110527 non-null int64\n",
      "Neighbourhood     110527 non-null object\n",
      "Scholarship       110527 non-null int64\n",
      "Hipertension      110527 non-null int64\n",
      "Diabetes          110527 non-null int64\n",
      "Alcoholism        110527 non-null int64\n",
      "Handcap           110527 non-null int64\n",
      "SMS_received      110527 non-null int64\n",
      "No-show           110527 non-null object\n",
      "dtypes: float64(1), int64(8), object(5)\n",
      "memory usage: 11.8+ MB\n"
     ]
    }
   ],
   "source": [
    "# inspect data types and look for instances of missing or possibly errant data.\n",
    "df.info()"
   ]
  },
  {
   "cell_type": "markdown",
   "metadata": {},
   "source": [
    "There are no missing data in any of the variables, however the **ScheduledDay** and **AppointmentDay** are not in the right types. Also **Hipertension** variable was wrongly spelt."
   ]
  },
  {
   "cell_type": "code",
   "execution_count": 7,
   "metadata": {},
   "outputs": [
    {
     "data": {
      "text/plain": [
       "0"
      ]
     },
     "execution_count": 7,
     "metadata": {},
     "output_type": "execute_result"
    }
   ],
   "source": [
    "# Check the data for duplicates\n",
    "df.duplicated().sum()"
   ]
  },
  {
   "cell_type": "markdown",
   "metadata": {},
   "source": [
    "\n",
    "### Data Cleaning\n",
    "\n",
    " The following will be done to clean up the dataset for the sake of the intended analysis:\n",
    "\n",
    "- Drop irrelevant variables (PatientId, AppointmentID, Neighbourhood)\n",
    "- Rename variables for correctness (Hipertension, Handcap) and consistency (SMS_received, No-show)\n",
    "- Convert ScheduledDay and AppointmentDay to the appropriate type (datetime)\n",
    "- Keep only rows where the AppointmentDay is greater or same as the ScheduledDay"
   ]
  },
  {
   "cell_type": "code",
   "execution_count": 8,
   "metadata": {},
   "outputs": [
    {
     "data": {
      "text/plain": [
       "Index(['Gender', 'ScheduledDay', 'AppointmentDay', 'Age', 'Scholarship',\n",
       "       'Hipertension', 'Diabetes', 'Alcoholism', 'Handcap', 'SMS_received',\n",
       "       'No-show'],\n",
       "      dtype='object')"
      ]
     },
     "execution_count": 8,
     "metadata": {},
     "output_type": "execute_result"
    }
   ],
   "source": [
    "# Drop irrelevant columns/variables\n",
    "df_clean = df.copy() # Make a copy of the original dataset for fallback or reference if neccessary\n",
    "\n",
    "df_clean.drop(['PatientId', 'AppointmentID', 'Neighbourhood'], axis=1, inplace=True)\n",
    "\n",
    "# view the columns left\n",
    "df_clean.columns"
   ]
  },
  {
   "cell_type": "code",
   "execution_count": 9,
   "metadata": {},
   "outputs": [
    {
     "data": {
      "text/html": [
       "<div>\n",
       "<style scoped>\n",
       "    .dataframe tbody tr th:only-of-type {\n",
       "        vertical-align: middle;\n",
       "    }\n",
       "\n",
       "    .dataframe tbody tr th {\n",
       "        vertical-align: top;\n",
       "    }\n",
       "\n",
       "    .dataframe thead th {\n",
       "        text-align: right;\n",
       "    }\n",
       "</style>\n",
       "<table border=\"1\" class=\"dataframe\">\n",
       "  <thead>\n",
       "    <tr style=\"text-align: right;\">\n",
       "      <th></th>\n",
       "      <th>Gender</th>\n",
       "      <th>ScheduledDay</th>\n",
       "      <th>AppointmentDay</th>\n",
       "      <th>Age</th>\n",
       "      <th>Scholarship</th>\n",
       "      <th>Hypertension</th>\n",
       "      <th>Diabetes</th>\n",
       "      <th>Alcoholism</th>\n",
       "      <th>Handicap</th>\n",
       "      <th>SmsReceived</th>\n",
       "      <th>NoShow</th>\n",
       "    </tr>\n",
       "  </thead>\n",
       "  <tbody>\n",
       "    <tr>\n",
       "      <th>0</th>\n",
       "      <td>F</td>\n",
       "      <td>2016-04-29T18:38:08Z</td>\n",
       "      <td>2016-04-29T00:00:00Z</td>\n",
       "      <td>62</td>\n",
       "      <td>0</td>\n",
       "      <td>1</td>\n",
       "      <td>0</td>\n",
       "      <td>0</td>\n",
       "      <td>0</td>\n",
       "      <td>0</td>\n",
       "      <td>No</td>\n",
       "    </tr>\n",
       "    <tr>\n",
       "      <th>1</th>\n",
       "      <td>M</td>\n",
       "      <td>2016-04-29T16:08:27Z</td>\n",
       "      <td>2016-04-29T00:00:00Z</td>\n",
       "      <td>56</td>\n",
       "      <td>0</td>\n",
       "      <td>0</td>\n",
       "      <td>0</td>\n",
       "      <td>0</td>\n",
       "      <td>0</td>\n",
       "      <td>0</td>\n",
       "      <td>No</td>\n",
       "    </tr>\n",
       "  </tbody>\n",
       "</table>\n",
       "</div>"
      ],
      "text/plain": [
       "  Gender          ScheduledDay        AppointmentDay  Age  Scholarship  \\\n",
       "0      F  2016-04-29T18:38:08Z  2016-04-29T00:00:00Z   62            0   \n",
       "1      M  2016-04-29T16:08:27Z  2016-04-29T00:00:00Z   56            0   \n",
       "\n",
       "   Hypertension  Diabetes  Alcoholism  Handicap  SmsReceived NoShow  \n",
       "0             1         0           0         0            0     No  \n",
       "1             0         0           0         0            0     No  "
      ]
     },
     "execution_count": 9,
     "metadata": {},
     "output_type": "execute_result"
    }
   ],
   "source": [
    "# Rename variables for correctness and consistency\n",
    "columns={'Hipertension': 'Hypertension', 'Handcap': 'Handicap', 'SMS_received': 'SmsReceived', 'No-show': 'NoShow'}\n",
    "df_clean.rename(columns=columns, inplace=True)\n",
    "\n",
    "df_clean.head(2)"
   ]
  },
  {
   "cell_type": "code",
   "execution_count": 10,
   "metadata": {},
   "outputs": [
    {
     "name": "stdout",
     "output_type": "stream",
     "text": [
      "<class 'pandas.core.frame.DataFrame'>\n",
      "RangeIndex: 110527 entries, 0 to 110526\n",
      "Data columns (total 11 columns):\n",
      "Gender            110527 non-null object\n",
      "ScheduledDay      110527 non-null datetime64[ns]\n",
      "AppointmentDay    110527 non-null datetime64[ns]\n",
      "Age               110527 non-null int64\n",
      "Scholarship       110527 non-null int64\n",
      "Hypertension      110527 non-null int64\n",
      "Diabetes          110527 non-null int64\n",
      "Alcoholism        110527 non-null int64\n",
      "Handicap          110527 non-null int64\n",
      "SmsReceived       110527 non-null int64\n",
      "NoShow            110527 non-null object\n",
      "dtypes: datetime64[ns](2), int64(7), object(2)\n",
      "memory usage: 9.3+ MB\n"
     ]
    }
   ],
   "source": [
    "# Convert ScheduledDay and AppointmentDay to the appropriate type (datetime)\n",
    "df_clean.ScheduledDay = pd.to_datetime(df_clean.ScheduledDay)\n",
    "df_clean.AppointmentDay = pd.to_datetime(df_clean.AppointmentDay)\n",
    "\n",
    "df_clean.info()"
   ]
  },
  {
   "cell_type": "code",
   "execution_count": 11,
   "metadata": {},
   "outputs": [
    {
     "data": {
      "text/html": [
       "<div>\n",
       "<style scoped>\n",
       "    .dataframe tbody tr th:only-of-type {\n",
       "        vertical-align: middle;\n",
       "    }\n",
       "\n",
       "    .dataframe tbody tr th {\n",
       "        vertical-align: top;\n",
       "    }\n",
       "\n",
       "    .dataframe thead th {\n",
       "        text-align: right;\n",
       "    }\n",
       "</style>\n",
       "<table border=\"1\" class=\"dataframe\">\n",
       "  <thead>\n",
       "    <tr style=\"text-align: right;\">\n",
       "      <th></th>\n",
       "      <th>ScheduledDay</th>\n",
       "      <th>AppointmentDay</th>\n",
       "      <th>ActualDateTimeDifference</th>\n",
       "      <th>LenDays</th>\n",
       "      <th>NoShow</th>\n",
       "    </tr>\n",
       "  </thead>\n",
       "  <tbody>\n",
       "    <tr>\n",
       "      <th>0</th>\n",
       "      <td>2016-04-29 18:38:08</td>\n",
       "      <td>2016-04-29</td>\n",
       "      <td>-1 days +05:21:52</td>\n",
       "      <td>0</td>\n",
       "      <td>No</td>\n",
       "    </tr>\n",
       "    <tr>\n",
       "      <th>1</th>\n",
       "      <td>2016-04-29 16:08:27</td>\n",
       "      <td>2016-04-29</td>\n",
       "      <td>-1 days +07:51:33</td>\n",
       "      <td>0</td>\n",
       "      <td>No</td>\n",
       "    </tr>\n",
       "    <tr>\n",
       "      <th>2</th>\n",
       "      <td>2016-04-29 16:19:04</td>\n",
       "      <td>2016-04-29</td>\n",
       "      <td>-1 days +07:40:56</td>\n",
       "      <td>0</td>\n",
       "      <td>No</td>\n",
       "    </tr>\n",
       "    <tr>\n",
       "      <th>3</th>\n",
       "      <td>2016-04-29 17:29:31</td>\n",
       "      <td>2016-04-29</td>\n",
       "      <td>-1 days +06:30:29</td>\n",
       "      <td>0</td>\n",
       "      <td>No</td>\n",
       "    </tr>\n",
       "    <tr>\n",
       "      <th>4</th>\n",
       "      <td>2016-04-29 16:07:23</td>\n",
       "      <td>2016-04-29</td>\n",
       "      <td>-1 days +07:52:37</td>\n",
       "      <td>0</td>\n",
       "      <td>No</td>\n",
       "    </tr>\n",
       "    <tr>\n",
       "      <th>5</th>\n",
       "      <td>2016-04-27 08:36:51</td>\n",
       "      <td>2016-04-29</td>\n",
       "      <td>1 days 15:23:09</td>\n",
       "      <td>2</td>\n",
       "      <td>No</td>\n",
       "    </tr>\n",
       "    <tr>\n",
       "      <th>6</th>\n",
       "      <td>2016-04-27 15:05:12</td>\n",
       "      <td>2016-04-29</td>\n",
       "      <td>1 days 08:54:48</td>\n",
       "      <td>2</td>\n",
       "      <td>Yes</td>\n",
       "    </tr>\n",
       "    <tr>\n",
       "      <th>7</th>\n",
       "      <td>2016-04-27 15:39:58</td>\n",
       "      <td>2016-04-29</td>\n",
       "      <td>1 days 08:20:02</td>\n",
       "      <td>2</td>\n",
       "      <td>Yes</td>\n",
       "    </tr>\n",
       "    <tr>\n",
       "      <th>8</th>\n",
       "      <td>2016-04-29 08:02:16</td>\n",
       "      <td>2016-04-29</td>\n",
       "      <td>-1 days +15:57:44</td>\n",
       "      <td>0</td>\n",
       "      <td>No</td>\n",
       "    </tr>\n",
       "    <tr>\n",
       "      <th>9</th>\n",
       "      <td>2016-04-27 12:48:25</td>\n",
       "      <td>2016-04-29</td>\n",
       "      <td>1 days 11:11:35</td>\n",
       "      <td>2</td>\n",
       "      <td>No</td>\n",
       "    </tr>\n",
       "  </tbody>\n",
       "</table>\n",
       "</div>"
      ],
      "text/plain": [
       "         ScheduledDay AppointmentDay ActualDateTimeDifference  LenDays NoShow\n",
       "0 2016-04-29 18:38:08     2016-04-29        -1 days +05:21:52        0     No\n",
       "1 2016-04-29 16:08:27     2016-04-29        -1 days +07:51:33        0     No\n",
       "2 2016-04-29 16:19:04     2016-04-29        -1 days +07:40:56        0     No\n",
       "3 2016-04-29 17:29:31     2016-04-29        -1 days +06:30:29        0     No\n",
       "4 2016-04-29 16:07:23     2016-04-29        -1 days +07:52:37        0     No\n",
       "5 2016-04-27 08:36:51     2016-04-29          1 days 15:23:09        2     No\n",
       "6 2016-04-27 15:05:12     2016-04-29          1 days 08:54:48        2    Yes\n",
       "7 2016-04-27 15:39:58     2016-04-29          1 days 08:20:02        2    Yes\n",
       "8 2016-04-29 08:02:16     2016-04-29        -1 days +15:57:44        0     No\n",
       "9 2016-04-27 12:48:25     2016-04-29          1 days 11:11:35        2     No"
      ]
     },
     "execution_count": 11,
     "metadata": {},
     "output_type": "execute_result"
    }
   ],
   "source": [
    "# Keep only rows where AppointmentDay >= ScheduledDay\n",
    "df_clean['ActualDateTimeDifference'] = df_clean.AppointmentDay - df_clean.ScheduledDay\n",
    "\n",
    "# calculate the length of days (appointment day inclusive) from scheduled date\n",
    "df_clean['LenDays'] = df_clean['ActualDateTimeDifference'] .dt.days + 1\n",
    "\n",
    "df_clean[['ScheduledDay', 'AppointmentDay', 'ActualDateTimeDifference',  'LenDays', 'NoShow']].head(10)"
   ]
  },
  {
   "cell_type": "code",
   "execution_count": 12,
   "metadata": {},
   "outputs": [
    {
     "data": {
      "text/plain": [
       "count    110527.000000\n",
       "mean         10.183702\n",
       "std          15.254996\n",
       "min          -6.000000\n",
       "25%           0.000000\n",
       "50%           4.000000\n",
       "75%          15.000000\n",
       "max         179.000000\n",
       "Name: LenDays, dtype: float64"
      ]
     },
     "execution_count": 12,
     "metadata": {},
     "output_type": "execute_result"
    }
   ],
   "source": [
    "df_clean.LenDays.describe()"
   ]
  },
  {
   "cell_type": "markdown",
   "metadata": {},
   "source": [
    "Wait!, we have appointments (e.g. -6 days) before schedule?. The above table shows us that days with values of 0 are actually appointments scheduled for the **same** day. We remove the row(s) with LenDays < 0."
   ]
  },
  {
   "cell_type": "code",
   "execution_count": 13,
   "metadata": {},
   "outputs": [
    {
     "data": {
      "text/plain": [
       "count    110522.000000\n",
       "mean         10.184253\n",
       "std          15.255115\n",
       "min           0.000000\n",
       "25%           0.000000\n",
       "50%           4.000000\n",
       "75%          15.000000\n",
       "max         179.000000\n",
       "Name: LenDays, dtype: float64"
      ]
     },
     "execution_count": 13,
     "metadata": {},
     "output_type": "execute_result"
    }
   ],
   "source": [
    "# get the indices of rows we want to drop \n",
    "indices = df_clean[df_clean.LenDays < 0].index\n",
    "\n",
    "# remove the rows\n",
    "df_clean.drop(indices, inplace=True)\n",
    "\n",
    "df_clean.LenDays.describe()"
   ]
  },
  {
   "cell_type": "markdown",
   "metadata": {},
   "source": [
    "<a id='eda'></a>\n",
    "## Exploratory Data Analysis\n",
    "\n",
    "\n",
    "### Which gender is more likely to miss an appointment?"
   ]
  },
  {
   "cell_type": "code",
   "execution_count": 14,
   "metadata": {},
   "outputs": [
    {
     "data": {
      "text/plain": [
       "F    0.649979\n",
       "M    0.350021\n",
       "Name: Gender, dtype: float64"
      ]
     },
     "execution_count": 14,
     "metadata": {},
     "output_type": "execute_result"
    }
   ],
   "source": [
    "# Determine the proportions of males and females\n",
    "df_clean.Gender.value_counts(normalize=True)"
   ]
  },
  {
   "cell_type": "markdown",
   "metadata": {},
   "source": [
    "65% of the patients were females while the rest 35% were males"
   ]
  },
  {
   "cell_type": "code",
   "execution_count": 15,
   "metadata": {},
   "outputs": [],
   "source": [
    "def create_grouped_data(key):\n",
    "    \"\"\"\n",
    "    Create a pandas grouped data with the provided key\n",
    "    Args:\n",
    "        key (str) - The key provided to the pandas DataFrame groupby method\n",
    "    Returns:\n",
    "        A pandas grouped data\n",
    "    \"\"\"\n",
    "    return df_clean.groupby(key).NoShow.value_counts(normalize=True) * 100\n",
    "\n",
    "\n",
    "gender_noshow = create_grouped_data('Gender')"
   ]
  },
  {
   "cell_type": "code",
   "execution_count": 16,
   "metadata": {},
   "outputs": [],
   "source": [
    "def create_side_by_side_barchart(grouped_data, keys, labels=None, colors=('b', 'g'), \n",
    "                                 title='', ylab='Proportion(%)', xlab='No Show'):\n",
    "    \"\"\"\n",
    "     A helper function that creates a side by side (dodged) bar chart\n",
    "     Args:\n",
    "       grouped_data (pandas.core.series.Series) - The data created by pandas DataFrame groupby method\n",
    "       keys         (iterable) - A list or tuple of category or levels of the variable passed to the groupby method\n",
    "       labels       (iterable) - labels to use as the plot legend\n",
    "       ylab         (str) - Y-axis label of the plot\n",
    "       xlab         (str) - X-axis label of the plot\n",
    "     Returns:\n",
    "       None\n",
    "    \"\"\"\n",
    "    \n",
    "    index = np.arange(grouped_data[keys[0]].count())\n",
    "    width = 0.35\n",
    "    \n",
    "    if labels is None:\n",
    "        labels = keys\n",
    "\n",
    "    plt.bar(index, grouped_data[keys[0]], width, color=colors[0], label=labels[0])\n",
    "    plt.bar(index + width, grouped_data[keys[1]], width, color=colors[1], label=labels[1])\n",
    "\n",
    "    plt.ylabel(ylab)\n",
    "    plt.xlabel(xlab)\n",
    "    plt.title(title)\n",
    "    plt.xticks(index + width / 2, ['No', 'Yes'] * 2) # add xtick labels\n",
    "\n",
    "    # # legend\n",
    "    plt.legend();"
   ]
  },
  {
   "cell_type": "code",
   "execution_count": 17,
   "metadata": {},
   "outputs": [
    {
     "data": {
      "image/png": "[encoded data removed]",
      "text/plain": [
       "<matplotlib.figure.Figure at 0x7fcc3fd1fc50>"
      ]
     },
     "metadata": {
      "needs_background": "light"
     },
     "output_type": "display_data"
    }
   ],
   "source": [
    "create_side_by_side_barchart(gender_noshow, keys=('M', 'F'), title='Proportion of Noshow by Gender')"
   ]
  },
  {
   "cell_type": "markdown",
   "metadata": {},
   "source": [
    "The same proportion (approx. 20%) of males and females did not show up for the scheduled appointment. This implied that Noshow is not influenced by gender."
   ]
  },
  {
   "cell_type": "markdown",
   "metadata": {},
   "source": [
    "### Does the length of days between the schedule date and appointment date affect No-show?"
   ]
  },
  {
   "cell_type": "markdown",
   "metadata": {},
   "source": [
    "*It is pertinent to note that taking the days component alone (LenDays) meant a loss of the time component*. My interest here is the days difference so it suffices for this question."
   ]
  },
  {
   "cell_type": "code",
   "execution_count": 18,
   "metadata": {},
   "outputs": [
    {
     "name": "stdout",
     "output_type": "stream",
     "text": [
      "The 129 unique days are: \n"
     ]
    },
    {
     "data": {
      "text/plain": [
       "array([  0,   2,   3,   1,   4,   9,  29,  10,  23,  11,  18,  17,  14,\n",
       "        28,  24,  21,  15,  16,  22,  43,  30,  31,  42,  32,  56,  45,\n",
       "        46,  39,  37,  38,  44,  50,  60,  52,  53,  65,  67,  91,  66,\n",
       "        84,  78,  87, 115, 109,  63,  70,  72,  57,  58,  51,  59,  41,\n",
       "        49,  73,  64,  20,  33,  34,   6,  35,  36,  12,  13,  40,  47,\n",
       "         8,   5,   7,  25,  26,  48,  27,  19,  61,  55,  62, 176,  54,\n",
       "        77,  69,  83,  76,  89,  81, 103,  79,  68,  75,  85, 112,  80,\n",
       "        86,  98,  94, 142, 155, 162, 169, 104, 133, 125,  96,  88,  90,\n",
       "       151, 126, 127, 111, 119,  74,  71,  82, 108, 110, 102, 122, 101,\n",
       "       105,  92,  97,  93, 107,  95, 139, 132, 179, 117, 146, 123])"
      ]
     },
     "execution_count": 18,
     "metadata": {},
     "output_type": "execute_result"
    }
   ],
   "source": [
    "# I intend to use LenDays as a categorical variable since Noshow is a categorical variable\n",
    "# let's see the 128 unique days\n",
    "print('The {} unique days are: '.format(df_clean.LenDays.nunique()))\n",
    "df_clean.LenDays.unique()"
   ]
  },
  {
   "cell_type": "code",
   "execution_count": 19,
   "metadata": {},
   "outputs": [
    {
     "data": {
      "image/png": "[encoded data removed]",
      "text/plain": [
       "<matplotlib.figure.Figure at 0x7fcc3fd1f278>"
      ]
     },
     "metadata": {
      "needs_background": "light"
     },
     "output_type": "display_data"
    }
   ],
   "source": [
    "# Let's see the distribution of the length of days\n",
    "df_clean.LenDays.plot.hist(bins=20);"
   ]
  },
  {
   "cell_type": "code",
   "execution_count": 20,
   "metadata": {},
   "outputs": [
    {
     "data": {
      "text/plain": [
       "0    38563\n",
       "2    17510\n",
       "4    17371\n",
       "1    14675\n",
       "3    12025\n",
       "5     8283\n",
       "6     1878\n",
       "7      132\n",
       "9       56\n",
       "8       29\n",
       "Name: LenDaysGroup, dtype: int64"
      ]
     },
     "execution_count": 20,
     "metadata": {},
     "output_type": "execute_result"
    }
   ],
   "source": [
    "# A helper function to group the days\n",
    "# We could further collapse the groups than what was done here\n",
    "def group_days(days):\n",
    "    \"\"\"\n",
    "      Categorize number of days\n",
    "      Args:\n",
    "         days (int) - The days to group\n",
    "      Returns:\n",
    "         An integer between 0 and 8 (inclusive)\n",
    "    \"\"\"\n",
    "    if days == 0:\n",
    "        return 0\n",
    "    elif days <= 3:\n",
    "        return 1\n",
    "    elif days <= 7:\n",
    "        return 2\n",
    "    elif days <= 14:\n",
    "        return 3\n",
    "    elif days <= 30:\n",
    "        return 4\n",
    "    elif days <= 60:\n",
    "        return 5\n",
    "    elif days <= 90:\n",
    "        return 6\n",
    "    elif days <= 120:\n",
    "        return 7\n",
    "    elif days <= 150:\n",
    "        return 8\n",
    "    elif days <= 180:\n",
    "        return 9\n",
    "\n",
    "df_clean['LenDaysGroup'] = df_clean.LenDays.map(group_days)\n",
    "\n",
    "df_clean.LenDaysGroup.value_counts()"
   ]
  },
  {
   "cell_type": "code",
   "execution_count": 21,
   "metadata": {},
   "outputs": [
    {
     "data": {
      "image/png": "[encoded data removed]",
      "text/plain": [
       "<matplotlib.figure.Figure at 0x7fcc3fd1f898>"
      ]
     },
     "metadata": {
      "needs_background": "light"
     },
     "output_type": "display_data"
    }
   ],
   "source": [
    "days_group_noshow = create_grouped_data('LenDaysGroup')\n",
    "\n",
    "\n",
    "noshow_yeses = [val for index, val in enumerate(days_group_noshow) if index % 2 != 0]\n",
    "labels = ['Same Day', 'Within 3 Days', 'Within a Week', 'Within 2 Weeks', 'Within 1 Month', 'Within 2 Months', 'Within 3 Months', \n",
    "                   'Within 4 Months', 'Within 5 Months', 'Within 6 Months']\n",
    "index = np.arange(len(noshow_yeses))\n",
    "\n",
    "# combine the index, yeses and labels so that it can be sorted accurately\n",
    "data = list(zip(noshow_yeses, labels))\n",
    "\n",
    "# sort the data by the yeses\n",
    "data.sort(key=lambda x: x[0])\n",
    "\n",
    "# transpose to the right shape for plotting: data[0] is now the index\n",
    "data = list(zip(*data))\n",
    "\n",
    "plt.figure(figsize=(8, 6))\n",
    "plt.barh(index, data[0])\n",
    "plt.xlabel('Proportion (%)')\n",
    "plt.ylabel('Length of Days')\n",
    "plt.title('Proportion of Noshow Based on Length of Days')\n",
    "plt.yticks(index, data[1])\n",
    "plt.show();"
   ]
  },
  {
   "cell_type": "markdown",
   "metadata": {},
   "source": [
    "We see that less than 5% of same day (zero-day) appointments were not kept. The story is very different when the day of appointment is much later than the scheduled day.\n",
    "\n",
    "**Note that we could drill further into length of days with respect to gender and presence of disease or type of disease**"
   ]
  },
  {
   "cell_type": "markdown",
   "metadata": {},
   "source": [
    "### Does sending SMS reduce the number of No-shows?"
   ]
  },
  {
   "cell_type": "code",
   "execution_count": 22,
   "metadata": {},
   "outputs": [
    {
     "data": {
      "text/plain": [
       "0    0.67896\n",
       "1    0.32104\n",
       "Name: SmsReceived, dtype: float64"
      ]
     },
     "execution_count": 22,
     "metadata": {},
     "output_type": "execute_result"
    }
   ],
   "source": [
    "# Find the proportion of those that were sent sms\n",
    "df_clean.SmsReceived.value_counts(normalize=True)"
   ]
  },
  {
   "cell_type": "markdown",
   "metadata": {},
   "source": [
    "About 32% of the patients were sent 1 or more SMS"
   ]
  },
  {
   "cell_type": "code",
   "execution_count": 23,
   "metadata": {},
   "outputs": [
    {
     "data": {
      "image/png": "[encoded data removed]",
      "text/plain": [
       "<matplotlib.figure.Figure at 0x7fcc3ce9f208>"
      ]
     },
     "metadata": {
      "needs_background": "light"
     },
     "output_type": "display_data"
    }
   ],
   "source": [
    "sms_noshow = create_grouped_data('SmsReceived')\n",
    "\n",
    "labels = ('Received 0', 'Received 1 or more')\n",
    "title = 'Proportion of Noshow Based on Number of SMS Received'\n",
    "create_side_by_side_barchart(sms_noshow, keys=(0, 1), title=title, labels=labels)"
   ]
  },
  {
   "cell_type": "markdown",
   "metadata": {},
   "source": [
    "27.6% of those who received 1 or more SMS did not show up for their appointments while 16.7% of those who did not receive any sms did not show up for their appointments."
   ]
  },
  {
   "cell_type": "markdown",
   "metadata": {},
   "source": [
    "### Are those in the Brazilian welfare program more likely to keep an appointment?"
   ]
  },
  {
   "cell_type": "code",
   "execution_count": 24,
   "metadata": {},
   "outputs": [
    {
     "data": {
      "text/plain": [
       "9.8270027686795398"
      ]
     },
     "execution_count": 24,
     "metadata": {},
     "output_type": "execute_result"
    }
   ],
   "source": [
    "# How many people are in the welfare program?\n",
    "\n",
    "# df_clean.Scholarship.value_counts(normalize=True) * 100\n",
    "# Same as below\n",
    "\n",
    "df_clean.Scholarship.mean() * 100 # We can do this because the column contains only 0s and 1s"
   ]
  },
  {
   "cell_type": "markdown",
   "metadata": {},
   "source": [
    "9.8% of the population were in the Brazilian welfare program"
   ]
  },
  {
   "cell_type": "code",
   "execution_count": 25,
   "metadata": {},
   "outputs": [
    {
     "name": "stdout",
     "output_type": "stream",
     "text": [
      "Scholarship  NoShow\n",
      "0            No        80.196867\n",
      "             Yes       19.803133\n",
      "1            No        76.263696\n",
      "             Yes       23.736304\n",
      "Name: NoShow, dtype: float64\n"
     ]
    },
    {
     "data": {
      "image/png": "[encoded data removed]",
      "text/plain": [
       "<matplotlib.figure.Figure at 0x7fcc3ce46358>"
      ]
     },
     "metadata": {
      "needs_background": "light"
     },
     "output_type": "display_data"
    }
   ],
   "source": [
    "scholarship_noshow = create_grouped_data('Scholarship')\n",
    "print(scholarship_noshow)\n",
    "labels = ('Not Sponsored', 'Sponsored')\n",
    "title = 'Proportion of Noshow Based on Number of SMS Received'\n",
    "\n",
    "create_side_by_side_barchart(scholarship_noshow, keys=(0, 1), title=title, labels=labels)"
   ]
  },
  {
   "cell_type": "markdown",
   "metadata": {},
   "source": [
    "About 23.7% of those who were on welfare program missed their appointments while about 20% of those who were not did not keep their appointment."
   ]
  },
  {
   "cell_type": "markdown",
   "metadata": {},
   "source": [
    "### Does the Presence of any of the Conditions Influence NoShow?"
   ]
  },
  {
   "cell_type": "code",
   "execution_count": 26,
   "metadata": {},
   "outputs": [
    {
     "name": "stdout",
     "output_type": "stream",
     "text": [
      "23.80% of the population had at least 1 of the listed conditions\n",
      "76.20% of the population had none of the listed conditions\n"
     ]
    }
   ],
   "source": [
    "has_any_condition = (df_clean.Hypertension == 1) | (df_clean.Diabetes == 1) | (df_clean.Alcoholism == 1)  | (df_clean.Handicap == 1)\n",
    "\n",
    "df_condition = df_clean[has_any_condition]\n",
    "df_no_condition = df_clean[has_any_condition == False]\n",
    "\n",
    "print('{:.2f}% of the population had at least 1 of the listed conditions'.format(len(df_condition) / len(df_clean) * 100))\n",
    "print('{:.2f}% of the population had none of the listed conditions'.format(len(df_no_condition) / len(df_clean) * 100))"
   ]
  },
  {
   "cell_type": "code",
   "execution_count": 27,
   "metadata": {},
   "outputs": [
    {
     "data": {
      "image/png": "[encoded data removed]",
      "text/plain": [
       "<matplotlib.figure.Figure at 0x7fcc3cd09dd8>"
      ]
     },
     "metadata": {},
     "output_type": "display_data"
    }
   ],
   "source": [
    "condition_noshow = df_condition.NoShow.value_counts(normalize=True) * 100\n",
    "no_condition_noshow = df_no_condition.NoShow.value_counts(normalize=True) * 100\n",
    "\n",
    "fig = plt.figure(figsize=(16, 6))\n",
    "ax1, ax2 = fig.subplots(1, 2)\n",
    "\n",
    "ax1.pie(condition_noshow, labels=condition_noshow.index, autopct='%1.1f%%',shadow=True, startangle=90)\n",
    "ax1.axis('equal')  # Equal aspect ratio ensures that pie is drawn as a circle.\n",
    "ax1.set_title('Proportion(%) of NoShow Among the Population with Any Condition')\n",
    "ax1.set_xlabel(\"No Show\")\n",
    "\n",
    "ax2.pie(no_condition_noshow, labels=no_condition_noshow.index, autopct='%1.1f%%', shadow=True, startangle=90)\n",
    "ax2.axis('equal')\n",
    "ax2.set_title('Proportion(%) of NoShow Among the Population with None of the Conditions')\n",
    "ax2.set_xlabel(\"No Show\")\n",
    "\n",
    "plt.show()"
   ]
  },
  {
   "cell_type": "markdown",
   "metadata": {},
   "source": [
    "A larger proportion (20.9%) of those without any condition did not keep their appointments."
   ]
  },
  {
   "cell_type": "markdown",
   "metadata": {},
   "source": [
    "<a id='conclusions'></a>\n",
    "## Conclusions\n",
    "\n",
    "**Firstly, it is pertinent to note that this analysis is tentative**.\n",
    "Gender did not seem to influence the missing of hospital appointments (NoShow) among the population. Also, the length of days between scheduled date and appointment day seems to play a row on NoShow as 0 days (same-day) appointments were less missed.\n",
    "The reception of SMS seemed to influence NoShow. However, more insight could be gained if presence of disease or the length of days were considered along with receiving SMS. More proportion of those sponsored also missed their appointment relative to those who were not sponsored. Finally, more people without any condition (3% more than those with any condition) missed their appointment. Here also, we could probe further by checking which of the conditions (Hypertension or Diabetes or Alcoholism or Handicap) had more of NoShow.\n",
    "\n",
    "\n",
    "### Limitations\n",
    "\n",
    "The current analysis does not perform any hypothesis test which is necessary to provide concrete answers to the research questions.\n",
    "Secondly, statistically modelling (logistic regression) was not performed. This would give insights on the combination of factors that would predict NoShow."
   ]
  },
  {
   "cell_type": "code",
   "execution_count": 28,
   "metadata": {},
   "outputs": [
    {
     "data": {
      "text/plain": [
       "0"
      ]
     },
     "execution_count": 28,
     "metadata": {},
     "output_type": "execute_result"
    }
   ],
   "source": [
    "# Create Html File Needed For Project Submission\n",
    "from subprocess import call\n",
    "call(['python', '-m', 'nbconvert', 'Investigate_a_Dataset.ipynb'])"
   ]
  }
 ],
 "metadata": {
  "kernelspec": {
   "display_name": "Python 3",
   "language": "python",
   "name": "python3"
  },
  "language_info": {
   "codemirror_mode": {
    "name": "ipython",
    "version": 3
   },
   "file_extension": ".py",
   "mimetype": "text/x-python",
   "name": "python",
   "nbconvert_exporter": "python",
   "pygments_lexer": "ipython3",
   "version": "3.6.3"
  }
 },
 "nbformat": 4,
 "nbformat_minor": 2
}
